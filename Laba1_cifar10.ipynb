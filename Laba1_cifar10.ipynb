{
  "nbformat": 4,
  "nbformat_minor": 0,
  "metadata": {
    "colab": {
      "name": "Laba1_cifar10.ipynb",
      "provenance": [],
      "collapsed_sections": [],
      "authorship_tag": "ABX9TyNi+M81iZnjlKapWpH0GxUq",
      "include_colab_link": true
    },
    "kernelspec": {
      "name": "python3",
      "display_name": "Python 3"
    },
    "accelerator": "GPU"
  },
  "cells": [
    {
      "cell_type": "markdown",
      "metadata": {
        "id": "view-in-github",
        "colab_type": "text"
      },
      "source": [
        "<a href=\"https://colab.research.google.com/github/SergeiSd/Algorithms/blob/master/Laba1_cifar10.ipynb\" target=\"_parent\"><img src=\"https://colab.research.google.com/assets/colab-badge.svg\" alt=\"Open In Colab\"/></a>"
      ]
    },
    {
      "cell_type": "code",
      "metadata": {
        "id": "PPr5UdxEtq5e"
      },
      "source": [
        "import numpy as np\n",
        "from keras.datasets import cifar10\n",
        "from keras.models import Sequential\n",
        "from keras.layers import Dense, Dropout, Flatten\n",
        "from keras.layers.convolutional import Conv2D, MaxPooling2D\n",
        "from keras.utils import np_utils\n",
        "from sklearn.metrics import accuracy_score\n",
        "from keras.preprocessing import image\n",
        "from PIL.Image import fromarray\n",
        "import matplotlib.pyplot as plt"
      ],
      "execution_count": 2,
      "outputs": []
    },
    {
      "cell_type": "code",
      "metadata": {
        "id": "ew1kBaqI8bxI"
      },
      "source": [
        "# Устанавливаем seed для повторяемости результатов\n",
        "np.random.seed(42)\n",
        "\n",
        "# Размер мини-выборки\n",
        "batch_size = 128\n",
        "\n",
        "# Количество классов изображений\n",
        "nb_classes = 10\n",
        "\n",
        "# Количество эпох\n",
        "nb_epoch = 25\n",
        "\n",
        "#Размер изображения\n",
        "img_rows, img_cols = 32, 32\n",
        "\n",
        "# Количество каналов в изображении: RGB\n",
        "img_channels = 3\n",
        "\n",
        "# Названия классов из набора дынных CIFAR-10\n",
        "classes = ['самолёт', 'автомобиль', 'птица', 'кот', 'олень', 'собака', 'лягушка', 'лошадь', 'корабль', 'грузовик']"
      ],
      "execution_count": 3,
      "outputs": []
    },
    {
      "cell_type": "code",
      "metadata": {
        "id": "F4PhLSZK0FEt",
        "colab": {
          "base_uri": "https://localhost:8080/",
          "height": 303
        },
        "outputId": "25da4f09-3708-42db-e58c-ad417b611406"
      },
      "source": [
        "# Загружаем данные cifar10\n",
        "(X_train, y_train), (X_test, y_test) = cifar10.load_data()\n",
        "\n",
        "index_img = 42\n",
        "plt.imshow(fromarray(X_test[index_img]))\n",
        "plt.show()"
      ],
      "execution_count": 4,
      "outputs": [
        {
          "output_type": "stream",
          "text": [
            "Downloading data from https://www.cs.toronto.edu/~kriz/cifar-10-python.tar.gz\n",
            "170500096/170498071 [==============================] - 2s 0us/step\n"
          ],
          "name": "stdout"
        },
        {
          "output_type": "display_data",
          "data": {
            "image/png": "[encoded data removed]",
            "text/plain": [
              "<Figure size 432x288 with 1 Axes>"
            ]
          },
          "metadata": {
            "tags": [],
            "needs_background": "light"
          }
        }
      ]
    },
    {
      "cell_type": "code",
      "metadata": {
        "id": "X0j9HTGU-fNN"
      },
      "source": [
        "# Преобразование размерности изображений \n",
        "X_train = X_train.reshape(X_train.shape[0], img_rows, img_cols, img_channels)\n",
        "X_test = X_test.reshape(X_test.shape[0], img_rows, img_cols, img_channels)\n"
      ],
      "execution_count": 5,
      "outputs": []
    },
    {
      "cell_type": "code",
      "metadata": {
        "id": "G9G_Rx703wzV"
      },
      "source": [
        "# Нормализация данных\n",
        "X_train = X_train.astype('float32')\n",
        "X_test = X_test.astype('float32')\n",
        "X_train /= 255 \n",
        "X_test /= 255"
      ],
      "execution_count": 6,
      "outputs": []
    },
    {
      "cell_type": "code",
      "metadata": {
        "id": "evGJAuIN4pSM"
      },
      "source": [
        "# Преобразуем метки в категории\n",
        "Y_train = np_utils.to_categorical(y_train, nb_classes)\n",
        "Y_test = np_utils.to_categorical(y_test, nb_classes)"
      ],
      "execution_count": 8,
      "outputs": []
    },
    {
      "cell_type": "code",
      "metadata": {
        "id": "KbcRcR9255lA",
        "colab": {
          "base_uri": "https://localhost:8080/"
        },
        "outputId": "9b2b5b05-0b6a-4213-c185-f2c465fe38d7"
      },
      "source": [
        "# Первая последовательная модель\n",
        "model1 = Sequential()\n",
        "\n",
        "model1.add(Conv2D(32, (3, 3), padding='same',\n",
        "                        input_shape=(32, 32, 3), activation='relu'))\n",
        "model1.add(Conv2D(32, (3, 3), padding='same', activation='relu'))\n",
        "model1.add(MaxPooling2D(pool_size=(2, 2)))\n",
        "model1.add(Dropout(0.25))\n",
        "model1.add(Conv2D(64, (3, 3), padding='same', activation='relu'))\n",
        "model1.add(Conv2D(64, (3, 3), activation='relu'))\n",
        "model1.add(MaxPooling2D(pool_size=(2, 2)))\n",
        "model1.add(Dropout(0.25))\n",
        "model1.add(Flatten())\n",
        "model1.add(Dense(500, activation='relu'))\n",
        "model1.add(Dropout(0.5))\n",
        "model1.add(Dense(nb_classes, activation='softmax'))\n",
        "\n",
        "model1.compile(loss='categorical_crossentropy',\n",
        "               optimizer='adam',\n",
        "               metrics=['accuracy'])\n",
        "\n",
        "history1 = model1.fit(X_train, Y_train,\n",
        "              batch_size=batch_size,\n",
        "              epochs=nb_epoch,\n",
        "              validation_split=0.1,\n",
        "              verbose=2)"
      ],
      "execution_count": null,
      "outputs": [
        {
          "output_type": "stream",
          "text": [
            "Epoch 1/25\n",
            "352/352 - 214s - loss: 1.6148 - accuracy: 0.4066 - val_loss: 1.2116 - val_accuracy: 0.5648\n",
            "Epoch 2/25\n",
            "352/352 - 211s - loss: 1.1817 - accuracy: 0.5770 - val_loss: 0.9723 - val_accuracy: 0.6594\n",
            "Epoch 3/25\n",
            "352/352 - 211s - loss: 1.0043 - accuracy: 0.6412 - val_loss: 0.8720 - val_accuracy: 0.6944\n",
            "Epoch 4/25\n",
            "352/352 - 212s - loss: 0.8959 - accuracy: 0.6858 - val_loss: 0.7821 - val_accuracy: 0.7310\n",
            "Epoch 5/25\n",
            "352/352 - 215s - loss: 0.8171 - accuracy: 0.7125 - val_loss: 0.7111 - val_accuracy: 0.7494\n",
            "Epoch 6/25\n",
            "352/352 - 215s - loss: 0.7608 - accuracy: 0.7332 - val_loss: 0.6926 - val_accuracy: 0.7576\n",
            "Epoch 7/25\n",
            "352/352 - 214s - loss: 0.7131 - accuracy: 0.7482 - val_loss: 0.6688 - val_accuracy: 0.7732\n",
            "Epoch 8/25\n"
          ],
          "name": "stdout"
        }
      ]
    },
    {
      "cell_type": "code",
      "metadata": {
        "colab": {
          "base_uri": "https://localhost:8080/"
        },
        "id": "s2bY_sKzXXjp",
        "outputId": "193adefc-9421-4bca-e3e0-796fa66259b7"
      },
      "source": [
        "# Вторая последовательная модель \n",
        "model2 = Sequential()\n",
        "\n",
        "model2.add(Conv2D(32, (3, 3), padding='same',\n",
        "                        input_shape=(32, 32, 3), activation='relu'))\n",
        "model2.add(Conv2D(32, (3, 3), padding='same', activation='relu'))\n",
        "model2.add(MaxPooling2D(pool_size=(2, 2)))\n",
        "model2.add(Dropout(0.25))\n",
        "model2.add(Conv2D(64, (3, 3), padding='same', activation='relu'))\n",
        "model2.add(Conv2D(64, (3, 3), activation='relu'))\n",
        "model2.add(MaxPooling2D(pool_size=(2, 2)))\n",
        "model2.add(Dropout(0.25))\n",
        "model2.add(Flatten())\n",
        "model2.add(Dense(500, activation='relu'))\n",
        "model2.add(Dropout(0.5))\n",
        "model2.add(Dense(nb_classes, activation='softmax'))\n",
        "\n",
        "model2.compile(loss='categorical_crossentropy',\n",
        "               optimizer='adam',\n",
        "               metrics=['accuracy'])\n",
        "\n",
        "history2 = model2.fit(X_train, Y_train,\n",
        "              batch_size=batch_size,\n",
        "              epochs=nb_epoch,\n",
        "              validation_split=0.1,\n",
        "              verbose=2)"
      ],
      "execution_count": 96,
      "outputs": [
        {
          "output_type": "stream",
          "text": [
            "Epoch 1/25\n",
            "352/352 - 4s - loss: 1.6312 - accuracy: 0.3990 - val_loss: 1.3243 - val_accuracy: 0.5240\n",
            "Epoch 2/25\n",
            "352/352 - 3s - loss: 1.2667 - accuracy: 0.5448 - val_loss: 1.0748 - val_accuracy: 0.6126\n",
            "Epoch 3/25\n",
            "352/352 - 3s - loss: 1.0847 - accuracy: 0.6146 - val_loss: 0.9403 - val_accuracy: 0.6770\n",
            "Epoch 4/25\n",
            "352/352 - 3s - loss: 0.9623 - accuracy: 0.6601 - val_loss: 0.8330 - val_accuracy: 0.7084\n",
            "Epoch 5/25\n",
            "352/352 - 3s - loss: 0.8713 - accuracy: 0.6942 - val_loss: 0.7751 - val_accuracy: 0.7338\n",
            "Epoch 6/25\n",
            "352/352 - 3s - loss: 0.8091 - accuracy: 0.7152 - val_loss: 0.7545 - val_accuracy: 0.7418\n",
            "Epoch 7/25\n",
            "352/352 - 3s - loss: 0.7653 - accuracy: 0.7313 - val_loss: 0.6856 - val_accuracy: 0.7622\n",
            "Epoch 8/25\n",
            "352/352 - 3s - loss: 0.7180 - accuracy: 0.7476 - val_loss: 0.6840 - val_accuracy: 0.7656\n",
            "Epoch 9/25\n",
            "352/352 - 3s - loss: 0.6808 - accuracy: 0.7605 - val_loss: 0.6314 - val_accuracy: 0.7824\n",
            "Epoch 10/25\n",
            "352/352 - 3s - loss: 0.6474 - accuracy: 0.7728 - val_loss: 0.6323 - val_accuracy: 0.7802\n",
            "Epoch 11/25\n",
            "352/352 - 3s - loss: 0.6159 - accuracy: 0.7825 - val_loss: 0.6413 - val_accuracy: 0.7836\n",
            "Epoch 12/25\n",
            "352/352 - 3s - loss: 0.5946 - accuracy: 0.7908 - val_loss: 0.6054 - val_accuracy: 0.7984\n",
            "Epoch 13/25\n",
            "352/352 - 3s - loss: 0.5651 - accuracy: 0.7994 - val_loss: 0.5975 - val_accuracy: 0.7992\n",
            "Epoch 14/25\n",
            "352/352 - 3s - loss: 0.5452 - accuracy: 0.8071 - val_loss: 0.6177 - val_accuracy: 0.7902\n",
            "Epoch 15/25\n",
            "352/352 - 3s - loss: 0.5275 - accuracy: 0.8163 - val_loss: 0.6134 - val_accuracy: 0.8036\n",
            "Epoch 16/25\n",
            "352/352 - 3s - loss: 0.5038 - accuracy: 0.8217 - val_loss: 0.6027 - val_accuracy: 0.7970\n",
            "Epoch 17/25\n",
            "352/352 - 3s - loss: 0.4787 - accuracy: 0.8293 - val_loss: 0.5932 - val_accuracy: 0.8070\n",
            "Epoch 18/25\n",
            "352/352 - 3s - loss: 0.4687 - accuracy: 0.8337 - val_loss: 0.6106 - val_accuracy: 0.7980\n",
            "Epoch 19/25\n",
            "352/352 - 3s - loss: 0.4585 - accuracy: 0.8361 - val_loss: 0.5817 - val_accuracy: 0.8092\n",
            "Epoch 20/25\n",
            "352/352 - 3s - loss: 0.4428 - accuracy: 0.8432 - val_loss: 0.5849 - val_accuracy: 0.8098\n",
            "Epoch 21/25\n",
            "352/352 - 3s - loss: 0.4311 - accuracy: 0.8466 - val_loss: 0.5867 - val_accuracy: 0.8052\n",
            "Epoch 22/25\n",
            "352/352 - 3s - loss: 0.4212 - accuracy: 0.8493 - val_loss: 0.5670 - val_accuracy: 0.8146\n",
            "Epoch 23/25\n",
            "352/352 - 3s - loss: 0.4080 - accuracy: 0.8533 - val_loss: 0.5633 - val_accuracy: 0.8150\n",
            "Epoch 24/25\n",
            "352/352 - 3s - loss: 0.3965 - accuracy: 0.8582 - val_loss: 0.5628 - val_accuracy: 0.8168\n",
            "Epoch 25/25\n",
            "352/352 - 3s - loss: 0.3838 - accuracy: 0.8626 - val_loss: 0.6087 - val_accuracy: 0.8096\n"
          ],
          "name": "stdout"
        }
      ]
    },
    {
      "cell_type": "code",
      "metadata": {
        "id": "rAiisydQBH1y",
        "colab": {
          "base_uri": "https://localhost:8080/"
        },
        "outputId": "bbd73dd2-b118-48d2-b449-61d9cd63b8d3"
      },
      "source": [
        "# Третья последовательная модель \n",
        "model3 = Sequential()\n",
        "\n",
        "model3.add(Conv2D(32, (3, 3), padding='same',\n",
        "                        input_shape=(32, 32, 3), activation='relu'))\n",
        "model3.add(Conv2D(32, (3, 3), padding='same', activation='relu'))\n",
        "model3.add(MaxPooling2D(pool_size=(2, 2)))\n",
        "model3.add(Dropout(0.25))\n",
        "model3.add(Conv2D(64, (3, 3), padding='same', activation='relu'))\n",
        "model3.add(Conv2D(64, (3, 3), activation='relu'))\n",
        "model3.add(MaxPooling2D(pool_size=(2, 2)))\n",
        "model3.add(Dropout(0.25))\n",
        "model3.add(Flatten())\n",
        "model3.add(Dense(500, activation='relu'))\n",
        "model3.add(Dropout(0.5))\n",
        "model3.add(Dense(nb_classes, activation='softmax'))\n",
        "\n",
        "model3.compile(loss='categorical_crossentropy',\n",
        "               optimizer='adam',\n",
        "               metrics=['accuracy'])\n",
        "\n",
        "history3 = model3.fit(X_train, Y_train,\n",
        "              batch_size=batch_size,\n",
        "              epochs=nb_epoch,\n",
        "              validation_split=0.1,\n",
        "              verbose=2)"
      ],
      "execution_count": 83,
      "outputs": [
        {
          "output_type": "stream",
          "text": [
            "Epoch 1/25\n",
            "352/352 - 4s - loss: 2.2064 - accuracy: 0.3192 - val_loss: 1.4633 - val_accuracy: 0.4734\n",
            "Epoch 2/25\n",
            "352/352 - 3s - loss: 1.4849 - accuracy: 0.4637 - val_loss: 1.2856 - val_accuracy: 0.5414\n",
            "Epoch 3/25\n",
            "352/352 - 3s - loss: 1.3118 - accuracy: 0.5314 - val_loss: 1.1281 - val_accuracy: 0.6052\n",
            "Epoch 4/25\n",
            "352/352 - 3s - loss: 1.1841 - accuracy: 0.5796 - val_loss: 1.0867 - val_accuracy: 0.6152\n",
            "Epoch 5/25\n",
            "352/352 - 3s - loss: 1.1100 - accuracy: 0.6081 - val_loss: 1.0107 - val_accuracy: 0.6504\n",
            "Epoch 6/25\n",
            "352/352 - 3s - loss: 1.0328 - accuracy: 0.6391 - val_loss: 0.8870 - val_accuracy: 0.6958\n",
            "Epoch 7/25\n",
            "352/352 - 3s - loss: 0.9851 - accuracy: 0.6520 - val_loss: 0.8837 - val_accuracy: 0.6942\n",
            "Epoch 8/25\n",
            "352/352 - 3s - loss: 0.9295 - accuracy: 0.6728 - val_loss: 0.8406 - val_accuracy: 0.7046\n",
            "Epoch 9/25\n",
            "352/352 - 3s - loss: 0.8921 - accuracy: 0.6868 - val_loss: 0.8130 - val_accuracy: 0.7188\n",
            "Epoch 10/25\n",
            "352/352 - 3s - loss: 0.8672 - accuracy: 0.6931 - val_loss: 0.7800 - val_accuracy: 0.7274\n",
            "Epoch 11/25\n",
            "352/352 - 3s - loss: 0.8222 - accuracy: 0.7114 - val_loss: 0.7669 - val_accuracy: 0.7370\n",
            "Epoch 12/25\n",
            "352/352 - 3s - loss: 0.8020 - accuracy: 0.7156 - val_loss: 0.7971 - val_accuracy: 0.7274\n",
            "Epoch 13/25\n",
            "352/352 - 3s - loss: 0.7784 - accuracy: 0.7280 - val_loss: 0.7627 - val_accuracy: 0.7376\n",
            "Epoch 14/25\n",
            "352/352 - 3s - loss: 0.7407 - accuracy: 0.7405 - val_loss: 0.7570 - val_accuracy: 0.7492\n",
            "Epoch 15/25\n",
            "352/352 - 3s - loss: 0.7269 - accuracy: 0.7444 - val_loss: 0.7544 - val_accuracy: 0.7434\n",
            "Epoch 16/25\n",
            "352/352 - 3s - loss: 0.7150 - accuracy: 0.7484 - val_loss: 0.7567 - val_accuracy: 0.7452\n",
            "Epoch 17/25\n",
            "352/352 - 3s - loss: 0.6923 - accuracy: 0.7572 - val_loss: 0.7143 - val_accuracy: 0.7568\n",
            "Epoch 18/25\n",
            "352/352 - 3s - loss: 0.6773 - accuracy: 0.7616 - val_loss: 0.7431 - val_accuracy: 0.7576\n",
            "Epoch 19/25\n",
            "352/352 - 3s - loss: 0.6633 - accuracy: 0.7670 - val_loss: 0.7029 - val_accuracy: 0.7576\n",
            "Epoch 20/25\n",
            "352/352 - 3s - loss: 0.6342 - accuracy: 0.7784 - val_loss: 0.6955 - val_accuracy: 0.7640\n",
            "Epoch 21/25\n",
            "352/352 - 3s - loss: 0.6261 - accuracy: 0.7798 - val_loss: 0.7008 - val_accuracy: 0.7646\n",
            "Epoch 22/25\n",
            "352/352 - 3s - loss: 0.6117 - accuracy: 0.7863 - val_loss: 0.7039 - val_accuracy: 0.7620\n",
            "Epoch 23/25\n",
            "352/352 - 3s - loss: 0.6037 - accuracy: 0.7871 - val_loss: 0.6862 - val_accuracy: 0.7720\n",
            "Epoch 24/25\n",
            "352/352 - 3s - loss: 0.5796 - accuracy: 0.7953 - val_loss: 0.6974 - val_accuracy: 0.7694\n",
            "Epoch 25/25\n",
            "352/352 - 3s - loss: 0.5885 - accuracy: 0.7933 - val_loss: 0.6987 - val_accuracy: 0.7666\n"
          ],
          "name": "stdout"
        }
      ]
    },
    {
      "cell_type": "code",
      "metadata": {
        "colab": {
          "base_uri": "https://localhost:8080/"
        },
        "id": "qosfxWTkX86c",
        "outputId": "60956705-b0b1-42e0-f887-504ca11c67c5"
      },
      "source": [
        "# Четвертая последовательная модель \n",
        "model4 = Sequential()\n",
        "\n",
        "model4.add(Conv2D(32, (3, 3), padding='same',\n",
        "                        input_shape=(32, 32, 3), activation='relu'))\n",
        "model4.add(Conv2D(32, (3, 3), padding='same', activation='relu'))\n",
        "model4.add(MaxPooling2D(pool_size=(2, 2)))\n",
        "model4.add(Dropout(0.25))\n",
        "model4.add(Conv2D(64, (3, 3), padding='same', activation='relu'))\n",
        "model4.add(Conv2D(64, (3, 3), activation='relu'))\n",
        "model4.add(MaxPooling2D(pool_size=(2, 2)))\n",
        "model4.add(Dropout(0.25))\n",
        "model4.add(Flatten())\n",
        "model4.add(Dense(500, activation='relu'))\n",
        "model4.add(Dropout(0.5))\n",
        "model4.add(Dense(nb_classes, activation='softmax'))\n",
        "\n",
        "model4.compile(loss='categorical_crossentropy',\n",
        "               optimizer='adam',\n",
        "               metrics=['accuracy'])\n",
        "\n",
        "history4 = model4.fit(X_train, Y_train,\n",
        "              batch_size=batch_size,\n",
        "              epochs=nb_epoch,\n",
        "              validation_split=0.1,\n",
        "              verbose=2)"
      ],
      "execution_count": 84,
      "outputs": [
        {
          "output_type": "stream",
          "text": [
            "Epoch 1/25\n",
            "352/352 - 4s - loss: 3.0721 - accuracy: 0.1041 - val_loss: 2.2963 - val_accuracy: 0.1138\n",
            "Epoch 2/25\n",
            "352/352 - 3s - loss: 2.2781 - accuracy: 0.1296 - val_loss: 2.1693 - val_accuracy: 0.2038\n",
            "Epoch 3/25\n",
            "352/352 - 3s - loss: 1.9742 - accuracy: 0.2760 - val_loss: 1.7010 - val_accuracy: 0.3848\n",
            "Epoch 4/25\n",
            "352/352 - 3s - loss: 1.6039 - accuracy: 0.4124 - val_loss: 1.3307 - val_accuracy: 0.5242\n",
            "Epoch 5/25\n",
            "352/352 - 3s - loss: 1.3566 - accuracy: 0.5111 - val_loss: 1.1692 - val_accuracy: 0.5930\n",
            "Epoch 6/25\n",
            "352/352 - 3s - loss: 1.2199 - accuracy: 0.5672 - val_loss: 1.0828 - val_accuracy: 0.6176\n",
            "Epoch 7/25\n",
            "352/352 - 3s - loss: 1.1287 - accuracy: 0.5997 - val_loss: 0.9872 - val_accuracy: 0.6628\n",
            "Epoch 8/25\n",
            "352/352 - 3s - loss: 1.0562 - accuracy: 0.6284 - val_loss: 0.9546 - val_accuracy: 0.6592\n",
            "Epoch 9/25\n",
            "352/352 - 3s - loss: 1.0045 - accuracy: 0.6475 - val_loss: 0.9071 - val_accuracy: 0.6836\n",
            "Epoch 10/25\n",
            "352/352 - 3s - loss: 0.9467 - accuracy: 0.6681 - val_loss: 0.8600 - val_accuracy: 0.7084\n",
            "Epoch 11/25\n",
            "352/352 - 3s - loss: 0.9059 - accuracy: 0.6805 - val_loss: 0.8065 - val_accuracy: 0.7308\n",
            "Epoch 12/25\n",
            "352/352 - 3s - loss: 0.8764 - accuracy: 0.6922 - val_loss: 0.7916 - val_accuracy: 0.7346\n",
            "Epoch 13/25\n",
            "352/352 - 3s - loss: 0.8322 - accuracy: 0.7070 - val_loss: 0.7875 - val_accuracy: 0.7400\n",
            "Epoch 14/25\n",
            "352/352 - 3s - loss: 0.8149 - accuracy: 0.7146 - val_loss: 0.7347 - val_accuracy: 0.7456\n",
            "Epoch 15/25\n",
            "352/352 - 3s - loss: 0.7776 - accuracy: 0.7270 - val_loss: 0.7257 - val_accuracy: 0.7494\n",
            "Epoch 16/25\n",
            "352/352 - 3s - loss: 0.7615 - accuracy: 0.7344 - val_loss: 0.7315 - val_accuracy: 0.7560\n",
            "Epoch 17/25\n",
            "352/352 - 3s - loss: 0.7368 - accuracy: 0.7423 - val_loss: 0.7179 - val_accuracy: 0.7516\n",
            "Epoch 18/25\n",
            "352/352 - 3s - loss: 0.7170 - accuracy: 0.7476 - val_loss: 0.7245 - val_accuracy: 0.7494\n",
            "Epoch 19/25\n",
            "352/352 - 3s - loss: 0.6978 - accuracy: 0.7535 - val_loss: 0.7276 - val_accuracy: 0.7522\n",
            "Epoch 20/25\n",
            "352/352 - 3s - loss: 0.6842 - accuracy: 0.7612 - val_loss: 0.7292 - val_accuracy: 0.7538\n",
            "Epoch 21/25\n",
            "352/352 - 3s - loss: 0.6735 - accuracy: 0.7660 - val_loss: 0.6759 - val_accuracy: 0.7652\n",
            "Epoch 22/25\n",
            "352/352 - 3s - loss: 0.6534 - accuracy: 0.7707 - val_loss: 0.6787 - val_accuracy: 0.7780\n",
            "Epoch 23/25\n",
            "352/352 - 3s - loss: 0.6302 - accuracy: 0.7799 - val_loss: 0.7099 - val_accuracy: 0.7670\n",
            "Epoch 24/25\n",
            "352/352 - 3s - loss: 0.6168 - accuracy: 0.7862 - val_loss: 0.7005 - val_accuracy: 0.7632\n",
            "Epoch 25/25\n",
            "352/352 - 3s - loss: 0.6214 - accuracy: 0.7830 - val_loss: 0.6689 - val_accuracy: 0.7804\n"
          ],
          "name": "stdout"
        }
      ]
    },
    {
      "cell_type": "code",
      "metadata": {
        "id": "fJNUPKt6X9Cw"
      },
      "source": [
        "# Пятая последовательная модель \n",
        "model5 = Sequential()\n",
        "\n",
        "model5.add(Conv2D(32, (3, 3), padding='same',\n",
        "                        input_shape=(32, 32, 3), activation='relu'))\n",
        "model5.add(Conv2D(32, (3, 3), padding='same', activation='relu'))\n",
        "model5.add(MaxPooling2D(pool_size=(2, 2)))\n",
        "model5.add(Dropout(0.25))\n",
        "model5.add(Conv2D(64, (3, 3), padding='same', activation='relu'))\n",
        "model5.add(Conv2D(64, (3, 3), activation='relu'))\n",
        "model5.add(MaxPooling2D(pool_size=(2, 2)))\n",
        "model5.add(Dropout(0.25))\n",
        "model5.add(Flatten())\n",
        "model5.add(Dense(500, activation='relu'))\n",
        "model5.add(Dropout(0.5))\n",
        "model5.add(Dense(nb_classes, activation='softmax'))\n",
        "\n",
        "model5.compile(loss='categorical_crossentropy',\n",
        "               optimizer='adam',\n",
        "               metrics=['accuracy'])\n",
        "\n",
        "history5 = model5.fit(X_train, Y_train,\n",
        "              batch_size=batch_size,\n",
        "              epochs=nb_epoch,\n",
        "              validation_split=0.1,\n",
        "              verbose=2)"
      ],
      "execution_count": null,
      "outputs": []
    },
    {
      "cell_type": "code",
      "metadata": {
        "id": "jvKXqw9HihCY"
      },
      "source": [
        "models_list = [model1, model2, model3, model4, model5]\n",
        "predict = None \n",
        "\n",
        "for model in models_list:\n",
        "\n",
        "  if predict is None:\n",
        "    predict = model.predict(X_test)\n",
        "\n",
        "  predict += model.predict(X_test)\n",
        "\n",
        "predict /= len(models_list)\n",
        "\n",
        "accuracy = accuracy_score(y_test, np.argmax(predict, axis=1))\n",
        "\n",
        "print('Accuracy = {}%'.format(round(accuracy*100, 2)))\n"
      ],
      "execution_count": null,
      "outputs": []
    },
    {
      "cell_type": "code",
      "metadata": {
        "id": "U3BXTgRs7dyg"
      },
      "source": [
        "model_json = model.to_json()\n",
        "json_file = open(\"Laba1_cifar10_model.json\", \"w\")\n",
        "json_file.write(model_json)\n",
        "json_file.close()\n",
        "model.save_weights(\"Laba1_cifar10_model.h5\")"
      ],
      "execution_count": 46,
      "outputs": []
    },
    {
      "cell_type": "code",
      "metadata": {
        "colab": {
          "base_uri": "https://localhost:8080/",
          "height": 17
        },
        "id": "2TOWzClZ7pYe",
        "outputId": "b0d68b6e-0722-4694-db13-5bd6902c82e3"
      },
      "source": [
        "from google.colab import files\n",
        "\n",
        "files.download(\"Laba1_cifar10_model.json\")\n",
        "files.download(\"Laba1_cifar10_model.h5\")"
      ],
      "execution_count": 49,
      "outputs": [
        {
          "output_type": "display_data",
          "data": {
            "application/javascript": [
              "\n",
              "    async function download(id, filename, size) {\n",
              "      if (!google.colab.kernel.accessAllowed) {\n",
              "        return;\n",
              "      }\n",
              "      const div = document.createElement('div');\n",
              "      const label = document.createElement('label');\n",
              "      label.textContent = `Downloading \"${filename}\": `;\n",
              "      div.appendChild(label);\n",
              "      const progress = document.createElement('progress');\n",
              "      progress.max = size;\n",
              "      div.appendChild(progress);\n",
              "      document.body.appendChild(div);\n",
              "\n",
              "      const buffers = [];\n",
              "      let downloaded = 0;\n",
              "\n",
              "      const channel = await google.colab.kernel.comms.open(id);\n",
              "      // Send a message to notify the kernel that we're ready.\n",
              "      channel.send({})\n",
              "\n",
              "      for await (const message of channel.messages) {\n",
              "        // Send a message to notify the kernel that we're ready.\n",
              "        channel.send({})\n",
              "        if (message.buffers) {\n",
              "          for (const buffer of message.buffers) {\n",
              "            buffers.push(buffer);\n",
              "            downloaded += buffer.byteLength;\n",
              "            progress.value = downloaded;\n",
              "          }\n",
              "        }\n",
              "      }\n",
              "      const blob = new Blob(buffers, {type: 'application/binary'});\n",
              "      const a = document.createElement('a');\n",
              "      a.href = window.URL.createObjectURL(blob);\n",
              "      a.download = filename;\n",
              "      div.appendChild(a);\n",
              "      a.click();\n",
              "      div.remove();\n",
              "    }\n",
              "  "
            ],
            "text/plain": [
              "<IPython.core.display.Javascript object>"
            ]
          },
          "metadata": {
            "tags": []
          }
        },
        {
          "output_type": "display_data",
          "data": {
            "application/javascript": [
              "download(\"download_826fe959-a8f1-4fe4-82a9-e707e06807f3\", \"Laba1_cifar10_model.json\", 4411)"
            ],
            "text/plain": [
              "<IPython.core.display.Javascript object>"
            ]
          },
          "metadata": {
            "tags": []
          }
        },
        {
          "output_type": "display_data",
          "data": {
            "application/javascript": [
              "\n",
              "    async function download(id, filename, size) {\n",
              "      if (!google.colab.kernel.accessAllowed) {\n",
              "        return;\n",
              "      }\n",
              "      const div = document.createElement('div');\n",
              "      const label = document.createElement('label');\n",
              "      label.textContent = `Downloading \"${filename}\": `;\n",
              "      div.appendChild(label);\n",
              "      const progress = document.createElement('progress');\n",
              "      progress.max = size;\n",
              "      div.appendChild(progress);\n",
              "      document.body.appendChild(div);\n",
              "\n",
              "      const buffers = [];\n",
              "      let downloaded = 0;\n",
              "\n",
              "      const channel = await google.colab.kernel.comms.open(id);\n",
              "      // Send a message to notify the kernel that we're ready.\n",
              "      channel.send({})\n",
              "\n",
              "      for await (const message of channel.messages) {\n",
              "        // Send a message to notify the kernel that we're ready.\n",
              "        channel.send({})\n",
              "        if (message.buffers) {\n",
              "          for (const buffer of message.buffers) {\n",
              "            buffers.push(buffer);\n",
              "            downloaded += buffer.byteLength;\n",
              "            progress.value = downloaded;\n",
              "          }\n",
              "        }\n",
              "      }\n",
              "      const blob = new Blob(buffers, {type: 'application/binary'});\n",
              "      const a = document.createElement('a');\n",
              "      a.href = window.URL.createObjectURL(blob);\n",
              "      a.download = filename;\n",
              "      div.appendChild(a);\n",
              "      a.click();\n",
              "      div.remove();\n",
              "    }\n",
              "  "
            ],
            "text/plain": [
              "<IPython.core.display.Javascript object>"
            ]
          },
          "metadata": {
            "tags": []
          }
        },
        {
          "output_type": "display_data",
          "data": {
            "application/javascript": [
              "download(\"download_04922a78-5a9a-46e6-8c95-c54672114aa4\", \"Laba1_cifar10_model.h5\", 4921584)"
            ],
            "text/plain": [
              "<IPython.core.display.Javascript object>"
            ]
          },
          "metadata": {
            "tags": []
          }
        }
      ]
    }
  ]
}